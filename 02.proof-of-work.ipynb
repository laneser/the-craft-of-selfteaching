{
  "nbformat": 4,
  "nbformat_minor": 0,
  "metadata": {
    "kernelspec": {
      "display_name": "Python 3",
      "language": "python",
      "name": "python3"
    },
    "language_info": {
      "codemirror_mode": {
        "name": "ipython",
        "version": 3
      },
      "file_extension": ".py",
      "mimetype": "text/x-python",
      "name": "python",
      "nbconvert_exporter": "python",
      "pygments_lexer": "ipython3",
      "version": "3.7.1"
    },
    "colab": {
      "name": "02.proof-of-work.ipynb",
      "version": "0.3.2",
      "provenance": []
    }
  },
  "cells": [
    {
      "cell_type": "markdown",
      "metadata": {
        "id": "0TQ3palQs5o8",
        "colab_type": "text"
      },
      "source": [
        "#如何證明你真的讀過這本書？"
      ]
    },
    {
      "cell_type": "markdown",
      "metadata": {
        "id": "OMHzuN3Ys5o-",
        "colab_type": "text"
      },
      "source": [
        "## 積ん読"
      ]
    },
    {
      "cell_type": "markdown",
      "metadata": {
        "id": "Uplh_Args5o_",
        "colab_type": "text"
      },
      "source": [
        "日語裡有個很好玩的詞，“**積ん読**”（[tsundoku](https://en.wikipedia.org/wiki/Tsundoku)）：\n",
        "\n",
        ">  指那些買回來堆在那裡還沒讀過的（甚至後來乾脆不看了的）書……\n",
        "\n",
        "細想想，每個人都有很多很多 “積ん読”。小時候我們拿回家的教科書中就有相當一部分，其實就是 “積ん読”，雖然那時候掏錢買書的是父母，不仔細看、或者乾脆不看的時候，也知道自己在偷懶……再後來就是“主動犯罪”了——比如，很多人買到手裡的英語詞彙書是根本就沒有翻到過第二個列表的，乃至於過去我常常開玩笑說，中國學生都認識一個單詞，*abandon*，不是嗎？這個單詞是很多很多人“決心重新做人”而後“就這樣罷”的鐵板釘釘的見證者。\n",
        "\n",
        "在沒有電子書的時代，印刷版書籍多少還有一點“裝飾品”功用，可是到了電子書時代，誰知道你的設備裡有多少付費書籍呢？攢下那麼多，其實並沒有炫耀的地方，給誰看呢？據說，Kindle的後台數據裡可以看到清楚的“打開率”，大抵上也是在$^1/_4$ ~ $^1/_3$之間，也就是說，差不多有$^2/_3$ ~ $^3/_4$的電子書籍被購買下載之後，從來就沒有被打開過。\n",
        "\n",
        "如此看來，付費之後並不閱讀，只能欺騙一個對象了：自己。跟心理學家們之前想像的不同，我認為人們通常是不會欺騙自己的，至少很難“故意欺騙自己”。所以，對於“買了之後堅決不讀”這個現象，我不認為“給自己虛妄的滿足感”是最好的解釋。\n",
        "\n",
        "更樸素一點，更接近真相的解釋是：\n",
        "\n",
        "> 那百分之七八十的人，其實是想著給自己一個希望……\n",
        "\n",
        "——等我有空了一定看。嗯。\n",
        "\n",
        "說來好笑，其實每個人共同擁有的目標之一是這樣的：\n",
        "\n",
        "> 成為前百分之二十的少數人……\n",
        "\n",
        "然而，PK掉百分之七八十的人的方法真的很簡單很簡單啊：\n",
        "\n",
        ">  把買來的書都真真切切地認真讀過就可以了。\n",
        "\n",
        "這實在是太簡單了罷？ ！可是……我知道你剛剛那個沒出息的閃念：\n",
        "\n",
        "> 那我少買書甚至不買書不就可以了嗎？\n",
        "\n",
        "你自己都知道這是荒謬的，卻忍不住為你的小聰明得意——其實吧，幸虧有你們在，否則我們怎麼混進前百分之二十呢？\n"
      ]
    },
    {
      "cell_type": "markdown",
      "metadata": {
        "id": "ACc2UwzEs5pA",
        "colab_type": "text"
      },
      "source": [
        "## PoW"
      ]
    },
    {
      "cell_type": "markdown",
      "metadata": {
        "id": "46BW8d02s5pB",
        "colab_type": "text"
      },
      "source": [
        "比特幣這個地球上第一個真正被證明為可行的區塊鏈應用中有一個特別重要的概念，叫做“**工作證明**”（Proof of Work）——你幹活了就是乾活了，你沒幹活就是沒幹活，你的工作是可被證明的……\n",
        "\n",
        "借用這個思路，我設計了個方法，讓你有辦法證明自己就是看過這本書，就是讀完了這本書— —你能向自己也向別人證明自己曾經的工作……是不是挺好？\n",
        "\n",
        "證明的方法是使用[github.com](https://github.com)這個網站以及版本控制工具**git**。\n"
      ]
    },
    {
      "cell_type": "markdown",
      "metadata": {
        "id": "XsHrSLFPs5pC",
        "colab_type": "text"
      },
      "source": [
        "## 具体步骤"
      ]
    },
    {
      "cell_type": "markdown",
      "metadata": {
        "id": "tWVAoCeLs5pD",
        "colab_type": "text"
      },
      "source": [
        "请按照以下步骤操作：\n",
        "\n",
        "> 1. 注册 [github.com](https://github.com) 帐号 —— 无论如何你都必须有 github 账户；\n",
        "> 2. 使用浏览器访问 [https://github.com/selfteaching/the-craft-of-selfteaching](https://github.com/selfteaching/the-craft-of-selfteaching)；\n",
        "> 3. 在页面右上部找到 “Fork” 按钮，将该仓库 Fork 到你自己的账户中；\n",
        "> 4. 使用 `git clone` 命令或者使用 [Desktop for Github](https://desktop.github.com/) 将 [the craft of selfteaching](https://github.com/selfteaching/the-craft-of-selfteaching) 这个你 Fork 过来的仓库克隆到本地；\n",
        "> 5. 按照 [Jupyterlab 的安装与配置](T-appendix.jupyter-installation-and-setup.ipynb) 的说明在本地搭建好 Jupyterlab —— 如果在 Jupyterlab 中浏览本书的话，其中的所有代码都是可以 “当场执行” 的，并且，你还可以直接改着玩……\n",
        "> 6. 在阅读过程中，可以不断通过修改文章中的代码作为练习 —— 这样做的结果就是已阅读过的文件会发生变化…… 每读完一章，甚至时时刻刻，你都可以通过 `git commit` 命令向你自己 Fork 过来的仓库提交变化 —— 这就是你的阅读工作证明；\n",
        "> 7. 仓库里有一个目录，`my-notes`，你可以把你在学习过程中写的笔记放在那里；\n",
        "> 8. 仓库里还有另外一个目录，`from-readers`；那是用来收集读者反馈的 —— 将来你可以写一篇《我的自学之路》，放在这个目录里，单独创建一个分支，而后提交 `pull request`，接受其他读者投票，若是达到一定的赞同率，那么你的文章就会被收录到主仓库中被更多人看到，激励更多的人像你一样走上自学之路……\n",
        "\n",
        "当然，为了这么做，你还要多学一样反正你早晚都必须学会的东西，Git —— 请参阅附录《[Git 入门](T-appendix.git-introduction.ipynb)》。\n",
        "\n",
        "时间就是这样，我们没办法糊弄它。而有了 git 这样的工具之后，我们在什么时候做了什么样的工作，是很容易证明的 —— 这对我们来说真是天大的好事。"
      ]
    },
    {
      "cell_type": "markdown",
      "metadata": {
        "id": "oZYmIJHcs5pE",
        "colab_type": "text"
      },
      "source": [
        "## 如何使用 Pull Request 为这本书校对"
      ]
    },
    {
      "cell_type": "markdown",
      "metadata": {
        "id": "llRm7iVJs5pF",
        "colab_type": "text"
      },
      "source": [
        "另外，在你阅读的过程中，发现有错别字啊、代码错误啊，甚至有 “更好的表述” 等等，都可以通过 `pull request` 来帮我改进 —— 这也是一种 “工作证明”。"
      ]
    },
    {
      "cell_type": "markdown",
      "metadata": {
        "id": "3Hzp9-R6s5pF",
        "colab_type": "text"
      },
      "source": [
        "(1) 使用浏览器访问 https://github.com/selfteaching/the-craft-of-selfteaching\n",
        "\n",
        "(2) 点击右上角的 “Fork 按钮”，将该仓库 Fork 到你的 Github 账户中\n",
        "\n",
        "![](https://github.com/laneser/the-craft-of-selfteaching/blob/study/images/github-fork.png?raw=1)\n",
        "\n",
        "(3) 创建一个新分支，可以取名为 `from-<your_username>`，或是，`by git.basic.tutorial`；之后点击 Create Branch 建立新分支。\n",
        "\n",
        "![](https://github.com/laneser/the-craft-of-selfteaching/blob/study/images/github-new-branch.png?raw=1)\n",
        "\n",
        "(4) 在新分支下进行修改某个文件，而后提交 —— 提交前不要嫌麻烦，一定要在 Comment 中写清楚修改说明：\n",
        "\n",
        "![](https://github.com/laneser/the-craft-of-selfteaching/blob/study/images/github-commit.png?raw=1)\n",
        "\n",
        "以上示例图片中是修改了 README.md 文件 —— 事实上，你应该提交的是的确有必要的校对。\n",
        "\n",
        "另外，**请注意**：在创建分支之前，要将你的 Fork 更新到最新版。具体操作方法见下一节《如何在 Github 网站上将自己的 Fork 与原仓库同步》。\n",
        "\n",
        "(5) 在页面顶部选择 Pull request 标签：\n",
        "\n",
        "![](https://github.com/laneser/the-craft-of-selfteaching/blob/study/images/github-pull-request.png?raw=1)\n",
        "\n",
        "而后点击 `Compare & pull request` 按钮 —— 如果看不到这个按钮，那就点击下面刚刚修改文件的链接，如上图中的 “Update README.md”（这是你刚刚提交修改时所填写的标题）。\n",
        "\n",
        "![](https://github.com/laneser/the-craft-of-selfteaching/blob/study/images/github-open-pull-request.png?raw=1)\n",
        "\n",
        "确认无误之后，点击 `Create pull request` 按钮。\n",
        "\n",
        "![](https://github.com/laneser/the-craft-of-selfteaching/blob/study/images/github-create-pull-request.png?raw=1)\n",
        "\n",
        "(6) 随后，Github 用户 [@xiaolai](https://github.com/xiaolai) —— 就是我，即，the-craft-of-selfteaching 这个仓库的所有者，会被通知有人提交了 Pull request，我会看到：\n",
        "\n",
        "![](https://github.com/laneser/the-craft-of-selfteaching/blob/study/images/github-confirm-merge.png?raw=1)\n",
        "\n",
        "在我确认这个 Pull request 修改是正确的、可接受的之后，我就会按 `Merge pull request` 按钮 —— 如此这般，一个修正就由你我共同完成了。\n",
        "\n",
        "![](https://github.com/laneser/the-craft-of-selfteaching/blob/study/images/github-merged-pull-request.png?raw=1)\n",
        "\n",
        "\n",
        "**注意**\n",
        "\n",
        "提交 Pull request 的时候，最佳策略如下：\n",
        "\n",
        "> * 提交 Pull request 之前，必须先将你的 Fork 的 master 与原仓库同步到最新；\n",
        "> * 从 master 创建 **新的 branch** 进行增补、修改等操作；\n",
        "> * 尽量每次只提交一个小修改；\n",
        "> * 提交时尽量简短且清楚地说明修改原因；\n",
        "> * 耐心等待回复。\n",
        "\n",
        "当自己的 Fork 过来的仓库已经被你在本地 “玩残” 了的时候，它千万不能被当作用来提交 Pull request 的版本。自己本地怎么玩都无所谓，但需要向别人提交 Pull request 的时候，必须重新弄一个当前最新版本到本地，而后再在其基础上修改。"
      ]
    },
    {
      "cell_type": "markdown",
      "metadata": {
        "id": "HBFobzGIs5pH",
        "colab_type": "text"
      },
      "source": [
        "## 如何在 Github 网站上将自己的 Fork 与原仓库同步"
      ]
    },
    {
      "cell_type": "markdown",
      "metadata": {
        "id": "gTslnAnis5pI",
        "colab_type": "text"
      },
      "source": [
        "(1) 在你的 Fork 页面中如下图所示，点击 `Compare` 链接：\n",
        "\n",
        "![](https://github.com/laneser/the-craft-of-selfteaching/blob/study/images/sync-fork-1.png?raw=1)\n",
        "\n",
        "(2) 将 `base repository` 更改成当前自己的 Fork，在图示中即为 `gitbasictutorial/the-craft-of-selfteaching`：\n",
        "\n",
        "![](https://github.com/laneser/the-craft-of-selfteaching/blob/study/images/sync-fork-2.png?raw=1)\n",
        "\n",
        "(3) 这时候，页面会显示 `There isn't anything to compare.`，因为你在比较 “自己” 和 “自己”。点击 `compare across forks` 链接：\n",
        "\n",
        "![](https://github.com/laneser/the-craft-of-selfteaching/blob/study/images/sync-fork-3.png?raw=1)\n",
        "\n",
        "(4) 将 `head repository` 更改成 Upstream Repository（即，上游仓库），在图示中即为 `selfteaching/the-craft-of-selfteaching`：\n",
        "\n",
        "![](https://github.com/laneser/the-craft-of-selfteaching/blob/study/images/sync-fork-4.png?raw=1)\n",
        "\n",
        "(5) 稍等片刻，你会看到比较结果；而后你可以创建一个 Pull request —— 这是一个由你自己向你自己的 Fork 仓库提交的 Pull request：\n",
        "\n",
        "![](https://github.com/laneser/the-craft-of-selfteaching/blob/study/images/sync-fork-5.png?raw=1)\n",
        "\n",
        "(6) 而后你在 `Pull requests` 标签页里会看到你刚刚提交的 Pull request：\n",
        "\n",
        "![](https://github.com/laneser/the-craft-of-selfteaching/blob/study/images/sync-fork-6.png?raw=1)\n",
        "\n",
        "(7) 同意并合并之后的结果是，你的 Fork 与上游仓库同步完成了：\n",
        "\n",
        "![](https://github.com/laneser/the-craft-of-selfteaching/blob/study/images/sync-fork-7.png?raw=1)\n",
        "\n",
        "当然，有时会出现一些你无法解决的问题，那么，还有一个最后的方法：\n",
        "\n",
        "> 将你的 Fork 删除，而后重新到 https://github.com/selfteaching/the-craft-of-selfteaching 页面按一次 `Fork` 按钮……"
      ]
    },
    {
      "cell_type": "markdown",
      "metadata": {
        "id": "vwGktgQ7s5pI",
        "colab_type": "text"
      },
      "source": [
        "## 如何使用 github 记录自己的学习过程"
      ]
    },
    {
      "cell_type": "markdown",
      "metadata": {
        "id": "W_GP0raIs5pJ",
        "colab_type": "text"
      },
      "source": [
        "你可以在本地建立一个分支（branch），例如，取名为 `study`：\n",
        "\n",
        "```bash\n",
        "git branch study\n",
        "git checkout study\n",
        "```\n",
        "\n",
        "如此这般之后，你在本地工作目录中所做的任何修改，都可以提交到 `study` 这个分支之中。\n",
        "\n",
        "你每次在 Jupyterlab 中浏览 `ipynb` 文件，按 `^ + Enter` 执行 code cell 中的代码的时候，该文件都会发生一些变化；你也可以随意修改文件中的任何地方，比如，添加一个 code cell，将某段代码从头至尾 “敲” 一遍；也可以修改某个 code cell 中的代码看看执行结果有什么不同；还可以添加或者修改任何 markdown cell —— 就当自己做笔记了……\n",
        "\n",
        "总而言之，当你阅读完某一章节并如上所说那样做了一些改动之后，那个 `ipynb` 文件就发生了一些变化。于是，你就可以执行以下命令：\n",
        "\n",
        "```bash\n",
        "git add .\n",
        "git commit -am 'my study result'\n",
        "git push\n",
        "```\n",
        "\n",
        "如此这般，在 `study` 这个分支中就记录着你的学习轨迹。\n",
        "\n",
        "当然，如果在这过程中，你发现本书自身有需要校对的地方，那么，你需要切换到 `master` 分支，执行以下命令：\n",
        "\n",
        "```bash\n",
        "git checkout master\n",
        "git pull\n",
        "```\n",
        "\n",
        "而后再修改，进而按照上一节的方法提交 Pull request。\n",
        "\n",
        "未来，在 [https://github.com/selfteaching](https://github.com/selfteaching) 下我会专门设置一个 repo，用来自动扫描 github 上本书的学习记录 —— 这种记录在过往的书籍当中是不可能存在的，然而，现在却可以了。在我看来，将来这种记录的作用甚至有可能比 “学历” 还要重要。"
      ]
    }
  ]
}